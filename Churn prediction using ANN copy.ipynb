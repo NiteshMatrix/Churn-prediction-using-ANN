{
 "cells": [
  {
   "cell_type": "code",
   "execution_count": 42,
   "metadata": {},
   "outputs": [],
   "source": [
    "import pandas as pd\n",
    "import numpy as np\n",
    "import matplotlib.pyplot as plt\n",
    "import seaborn as sns\n",
    "%matplotlib inline"
   ]
  },
  {
   "cell_type": "code",
   "execution_count": 43,
   "metadata": {},
   "outputs": [],
   "source": [
    "dataset = pd.read_csv('/Users/niteshchandra/Downloads/Online Courses and Resources Files/Projects/MLProject-ChurnPrediction-main/WA_Fn-UseC_-Telco-Customer-Churn.csv')\n"
   ]
  },
  {
   "attachments": {},
   "cell_type": "markdown",
   "metadata": {},
   "source": [
    "## Data Preprocessing"
   ]
  },
  {
   "cell_type": "code",
   "execution_count": 44,
   "metadata": {},
   "outputs": [
    {
     "data": {
      "text/html": [
       "<div>\n",
       "<style scoped>\n",
       "    .dataframe tbody tr th:only-of-type {\n",
       "        vertical-align: middle;\n",
       "    }\n",
       "\n",
       "    .dataframe tbody tr th {\n",
       "        vertical-align: top;\n",
       "    }\n",
       "\n",
       "    .dataframe thead th {\n",
       "        text-align: right;\n",
       "    }\n",
       "</style>\n",
       "<table border=\"1\" class=\"dataframe\">\n",
       "  <thead>\n",
       "    <tr style=\"text-align: right;\">\n",
       "      <th></th>\n",
       "      <th>customerID</th>\n",
       "      <th>gender</th>\n",
       "      <th>SeniorCitizen</th>\n",
       "      <th>Partner</th>\n",
       "      <th>Dependents</th>\n",
       "      <th>tenure</th>\n",
       "      <th>PhoneService</th>\n",
       "      <th>MultipleLines</th>\n",
       "      <th>InternetService</th>\n",
       "      <th>OnlineSecurity</th>\n",
       "      <th>...</th>\n",
       "      <th>DeviceProtection</th>\n",
       "      <th>TechSupport</th>\n",
       "      <th>StreamingTV</th>\n",
       "      <th>StreamingMovies</th>\n",
       "      <th>Contract</th>\n",
       "      <th>PaperlessBilling</th>\n",
       "      <th>PaymentMethod</th>\n",
       "      <th>MonthlyCharges</th>\n",
       "      <th>TotalCharges</th>\n",
       "      <th>Churn</th>\n",
       "    </tr>\n",
       "  </thead>\n",
       "  <tbody>\n",
       "    <tr>\n",
       "      <th>0</th>\n",
       "      <td>7590-VHVEG</td>\n",
       "      <td>Female</td>\n",
       "      <td>0</td>\n",
       "      <td>Yes</td>\n",
       "      <td>No</td>\n",
       "      <td>1</td>\n",
       "      <td>No</td>\n",
       "      <td>No phone service</td>\n",
       "      <td>DSL</td>\n",
       "      <td>No</td>\n",
       "      <td>...</td>\n",
       "      <td>No</td>\n",
       "      <td>No</td>\n",
       "      <td>No</td>\n",
       "      <td>No</td>\n",
       "      <td>Month-to-month</td>\n",
       "      <td>Yes</td>\n",
       "      <td>Electronic check</td>\n",
       "      <td>29.85</td>\n",
       "      <td>29.85</td>\n",
       "      <td>No</td>\n",
       "    </tr>\n",
       "    <tr>\n",
       "      <th>1</th>\n",
       "      <td>5575-GNVDE</td>\n",
       "      <td>Male</td>\n",
       "      <td>0</td>\n",
       "      <td>No</td>\n",
       "      <td>No</td>\n",
       "      <td>34</td>\n",
       "      <td>Yes</td>\n",
       "      <td>No</td>\n",
       "      <td>DSL</td>\n",
       "      <td>Yes</td>\n",
       "      <td>...</td>\n",
       "      <td>Yes</td>\n",
       "      <td>No</td>\n",
       "      <td>No</td>\n",
       "      <td>No</td>\n",
       "      <td>One year</td>\n",
       "      <td>No</td>\n",
       "      <td>Mailed check</td>\n",
       "      <td>56.95</td>\n",
       "      <td>1889.5</td>\n",
       "      <td>No</td>\n",
       "    </tr>\n",
       "    <tr>\n",
       "      <th>2</th>\n",
       "      <td>3668-QPYBK</td>\n",
       "      <td>Male</td>\n",
       "      <td>0</td>\n",
       "      <td>No</td>\n",
       "      <td>No</td>\n",
       "      <td>2</td>\n",
       "      <td>Yes</td>\n",
       "      <td>No</td>\n",
       "      <td>DSL</td>\n",
       "      <td>Yes</td>\n",
       "      <td>...</td>\n",
       "      <td>No</td>\n",
       "      <td>No</td>\n",
       "      <td>No</td>\n",
       "      <td>No</td>\n",
       "      <td>Month-to-month</td>\n",
       "      <td>Yes</td>\n",
       "      <td>Mailed check</td>\n",
       "      <td>53.85</td>\n",
       "      <td>108.15</td>\n",
       "      <td>Yes</td>\n",
       "    </tr>\n",
       "    <tr>\n",
       "      <th>3</th>\n",
       "      <td>7795-CFOCW</td>\n",
       "      <td>Male</td>\n",
       "      <td>0</td>\n",
       "      <td>No</td>\n",
       "      <td>No</td>\n",
       "      <td>45</td>\n",
       "      <td>No</td>\n",
       "      <td>No phone service</td>\n",
       "      <td>DSL</td>\n",
       "      <td>Yes</td>\n",
       "      <td>...</td>\n",
       "      <td>Yes</td>\n",
       "      <td>Yes</td>\n",
       "      <td>No</td>\n",
       "      <td>No</td>\n",
       "      <td>One year</td>\n",
       "      <td>No</td>\n",
       "      <td>Bank transfer (automatic)</td>\n",
       "      <td>42.30</td>\n",
       "      <td>1840.75</td>\n",
       "      <td>No</td>\n",
       "    </tr>\n",
       "    <tr>\n",
       "      <th>4</th>\n",
       "      <td>9237-HQITU</td>\n",
       "      <td>Female</td>\n",
       "      <td>0</td>\n",
       "      <td>No</td>\n",
       "      <td>No</td>\n",
       "      <td>2</td>\n",
       "      <td>Yes</td>\n",
       "      <td>No</td>\n",
       "      <td>Fiber optic</td>\n",
       "      <td>No</td>\n",
       "      <td>...</td>\n",
       "      <td>No</td>\n",
       "      <td>No</td>\n",
       "      <td>No</td>\n",
       "      <td>No</td>\n",
       "      <td>Month-to-month</td>\n",
       "      <td>Yes</td>\n",
       "      <td>Electronic check</td>\n",
       "      <td>70.70</td>\n",
       "      <td>151.65</td>\n",
       "      <td>Yes</td>\n",
       "    </tr>\n",
       "  </tbody>\n",
       "</table>\n",
       "<p>5 rows × 21 columns</p>\n",
       "</div>"
      ],
      "text/plain": [
       "   customerID  gender  SeniorCitizen Partner Dependents  tenure PhoneService  \\\n",
       "0  7590-VHVEG  Female              0     Yes         No       1           No   \n",
       "1  5575-GNVDE    Male              0      No         No      34          Yes   \n",
       "2  3668-QPYBK    Male              0      No         No       2          Yes   \n",
       "3  7795-CFOCW    Male              0      No         No      45           No   \n",
       "4  9237-HQITU  Female              0      No         No       2          Yes   \n",
       "\n",
       "      MultipleLines InternetService OnlineSecurity  ... DeviceProtection  \\\n",
       "0  No phone service             DSL             No  ...               No   \n",
       "1                No             DSL            Yes  ...              Yes   \n",
       "2                No             DSL            Yes  ...               No   \n",
       "3  No phone service             DSL            Yes  ...              Yes   \n",
       "4                No     Fiber optic             No  ...               No   \n",
       "\n",
       "  TechSupport StreamingTV StreamingMovies        Contract PaperlessBilling  \\\n",
       "0          No          No              No  Month-to-month              Yes   \n",
       "1          No          No              No        One year               No   \n",
       "2          No          No              No  Month-to-month              Yes   \n",
       "3         Yes          No              No        One year               No   \n",
       "4          No          No              No  Month-to-month              Yes   \n",
       "\n",
       "               PaymentMethod MonthlyCharges  TotalCharges Churn  \n",
       "0           Electronic check          29.85         29.85    No  \n",
       "1               Mailed check          56.95        1889.5    No  \n",
       "2               Mailed check          53.85        108.15   Yes  \n",
       "3  Bank transfer (automatic)          42.30       1840.75    No  \n",
       "4           Electronic check          70.70        151.65   Yes  \n",
       "\n",
       "[5 rows x 21 columns]"
      ]
     },
     "execution_count": 44,
     "metadata": {},
     "output_type": "execute_result"
    }
   ],
   "source": [
    "dataset.head()"
   ]
  },
  {
   "cell_type": "code",
   "execution_count": 45,
   "metadata": {},
   "outputs": [
    {
     "name": "stdout",
     "output_type": "stream",
     "text": [
      "<class 'pandas.core.frame.DataFrame'>\n",
      "RangeIndex: 7043 entries, 0 to 7042\n",
      "Data columns (total 21 columns):\n",
      " #   Column            Non-Null Count  Dtype  \n",
      "---  ------            --------------  -----  \n",
      " 0   customerID        7043 non-null   object \n",
      " 1   gender            7043 non-null   object \n",
      " 2   SeniorCitizen     7043 non-null   int64  \n",
      " 3   Partner           7043 non-null   object \n",
      " 4   Dependents        7043 non-null   object \n",
      " 5   tenure            7043 non-null   int64  \n",
      " 6   PhoneService      7043 non-null   object \n",
      " 7   MultipleLines     7043 non-null   object \n",
      " 8   InternetService   7043 non-null   object \n",
      " 9   OnlineSecurity    7043 non-null   object \n",
      " 10  OnlineBackup      7043 non-null   object \n",
      " 11  DeviceProtection  7043 non-null   object \n",
      " 12  TechSupport       7043 non-null   object \n",
      " 13  StreamingTV       7043 non-null   object \n",
      " 14  StreamingMovies   7043 non-null   object \n",
      " 15  Contract          7043 non-null   object \n",
      " 16  PaperlessBilling  7043 non-null   object \n",
      " 17  PaymentMethod     7043 non-null   object \n",
      " 18  MonthlyCharges    7043 non-null   float64\n",
      " 19  TotalCharges      7043 non-null   object \n",
      " 20  Churn             7043 non-null   object \n",
      "dtypes: float64(1), int64(2), object(18)\n",
      "memory usage: 1.1+ MB\n"
     ]
    }
   ],
   "source": [
    "dataset.info()"
   ]
  },
  {
   "cell_type": "code",
   "execution_count": 46,
   "metadata": {},
   "outputs": [],
   "source": [
    "dataset['TotalCharges'] = pd.to_numeric(dataset['TotalCharges'], errors='coerce')"
   ]
  },
  {
   "cell_type": "code",
   "execution_count": 47,
   "metadata": {},
   "outputs": [
    {
     "data": {
      "text/plain": [
       "customerID           0\n",
       "gender               0\n",
       "SeniorCitizen        0\n",
       "Partner              0\n",
       "Dependents           0\n",
       "tenure               0\n",
       "PhoneService         0\n",
       "MultipleLines        0\n",
       "InternetService      0\n",
       "OnlineSecurity       0\n",
       "OnlineBackup         0\n",
       "DeviceProtection     0\n",
       "TechSupport          0\n",
       "StreamingTV          0\n",
       "StreamingMovies      0\n",
       "Contract             0\n",
       "PaperlessBilling     0\n",
       "PaymentMethod        0\n",
       "MonthlyCharges       0\n",
       "TotalCharges        11\n",
       "Churn                0\n",
       "dtype: int64"
      ]
     },
     "execution_count": 47,
     "metadata": {},
     "output_type": "execute_result"
    }
   ],
   "source": [
    "dataset.isnull().sum()"
   ]
  },
  {
   "cell_type": "code",
   "execution_count": 48,
   "metadata": {},
   "outputs": [],
   "source": [
    "dataset.dropna(inplace=True)"
   ]
  },
  {
   "cell_type": "code",
   "execution_count": 49,
   "metadata": {},
   "outputs": [
    {
     "data": {
      "text/html": [
       "<div>\n",
       "<style scoped>\n",
       "    .dataframe tbody tr th:only-of-type {\n",
       "        vertical-align: middle;\n",
       "    }\n",
       "\n",
       "    .dataframe tbody tr th {\n",
       "        vertical-align: top;\n",
       "    }\n",
       "\n",
       "    .dataframe thead th {\n",
       "        text-align: right;\n",
       "    }\n",
       "</style>\n",
       "<table border=\"1\" class=\"dataframe\">\n",
       "  <thead>\n",
       "    <tr style=\"text-align: right;\">\n",
       "      <th></th>\n",
       "      <th>gender</th>\n",
       "      <th>SeniorCitizen</th>\n",
       "      <th>Partner</th>\n",
       "      <th>Dependents</th>\n",
       "      <th>tenure</th>\n",
       "      <th>PhoneService</th>\n",
       "      <th>MultipleLines</th>\n",
       "      <th>InternetService</th>\n",
       "      <th>OnlineSecurity</th>\n",
       "      <th>OnlineBackup</th>\n",
       "      <th>DeviceProtection</th>\n",
       "      <th>TechSupport</th>\n",
       "      <th>StreamingTV</th>\n",
       "      <th>StreamingMovies</th>\n",
       "      <th>Contract</th>\n",
       "      <th>PaperlessBilling</th>\n",
       "      <th>PaymentMethod</th>\n",
       "      <th>MonthlyCharges</th>\n",
       "      <th>TotalCharges</th>\n",
       "      <th>Churn</th>\n",
       "    </tr>\n",
       "  </thead>\n",
       "  <tbody>\n",
       "    <tr>\n",
       "      <th>0</th>\n",
       "      <td>Female</td>\n",
       "      <td>0</td>\n",
       "      <td>Yes</td>\n",
       "      <td>No</td>\n",
       "      <td>1</td>\n",
       "      <td>No</td>\n",
       "      <td>No phone service</td>\n",
       "      <td>DSL</td>\n",
       "      <td>No</td>\n",
       "      <td>Yes</td>\n",
       "      <td>No</td>\n",
       "      <td>No</td>\n",
       "      <td>No</td>\n",
       "      <td>No</td>\n",
       "      <td>Month-to-month</td>\n",
       "      <td>Yes</td>\n",
       "      <td>Electronic check</td>\n",
       "      <td>29.85</td>\n",
       "      <td>29.85</td>\n",
       "      <td>No</td>\n",
       "    </tr>\n",
       "    <tr>\n",
       "      <th>1</th>\n",
       "      <td>Male</td>\n",
       "      <td>0</td>\n",
       "      <td>No</td>\n",
       "      <td>No</td>\n",
       "      <td>34</td>\n",
       "      <td>Yes</td>\n",
       "      <td>No</td>\n",
       "      <td>DSL</td>\n",
       "      <td>Yes</td>\n",
       "      <td>No</td>\n",
       "      <td>Yes</td>\n",
       "      <td>No</td>\n",
       "      <td>No</td>\n",
       "      <td>No</td>\n",
       "      <td>One year</td>\n",
       "      <td>No</td>\n",
       "      <td>Mailed check</td>\n",
       "      <td>56.95</td>\n",
       "      <td>1889.50</td>\n",
       "      <td>No</td>\n",
       "    </tr>\n",
       "    <tr>\n",
       "      <th>2</th>\n",
       "      <td>Male</td>\n",
       "      <td>0</td>\n",
       "      <td>No</td>\n",
       "      <td>No</td>\n",
       "      <td>2</td>\n",
       "      <td>Yes</td>\n",
       "      <td>No</td>\n",
       "      <td>DSL</td>\n",
       "      <td>Yes</td>\n",
       "      <td>Yes</td>\n",
       "      <td>No</td>\n",
       "      <td>No</td>\n",
       "      <td>No</td>\n",
       "      <td>No</td>\n",
       "      <td>Month-to-month</td>\n",
       "      <td>Yes</td>\n",
       "      <td>Mailed check</td>\n",
       "      <td>53.85</td>\n",
       "      <td>108.15</td>\n",
       "      <td>Yes</td>\n",
       "    </tr>\n",
       "    <tr>\n",
       "      <th>3</th>\n",
       "      <td>Male</td>\n",
       "      <td>0</td>\n",
       "      <td>No</td>\n",
       "      <td>No</td>\n",
       "      <td>45</td>\n",
       "      <td>No</td>\n",
       "      <td>No phone service</td>\n",
       "      <td>DSL</td>\n",
       "      <td>Yes</td>\n",
       "      <td>No</td>\n",
       "      <td>Yes</td>\n",
       "      <td>Yes</td>\n",
       "      <td>No</td>\n",
       "      <td>No</td>\n",
       "      <td>One year</td>\n",
       "      <td>No</td>\n",
       "      <td>Bank transfer (automatic)</td>\n",
       "      <td>42.30</td>\n",
       "      <td>1840.75</td>\n",
       "      <td>No</td>\n",
       "    </tr>\n",
       "    <tr>\n",
       "      <th>4</th>\n",
       "      <td>Female</td>\n",
       "      <td>0</td>\n",
       "      <td>No</td>\n",
       "      <td>No</td>\n",
       "      <td>2</td>\n",
       "      <td>Yes</td>\n",
       "      <td>No</td>\n",
       "      <td>Fiber optic</td>\n",
       "      <td>No</td>\n",
       "      <td>No</td>\n",
       "      <td>No</td>\n",
       "      <td>No</td>\n",
       "      <td>No</td>\n",
       "      <td>No</td>\n",
       "      <td>Month-to-month</td>\n",
       "      <td>Yes</td>\n",
       "      <td>Electronic check</td>\n",
       "      <td>70.70</td>\n",
       "      <td>151.65</td>\n",
       "      <td>Yes</td>\n",
       "    </tr>\n",
       "  </tbody>\n",
       "</table>\n",
       "</div>"
      ],
      "text/plain": [
       "   gender  SeniorCitizen Partner Dependents  tenure PhoneService  \\\n",
       "0  Female              0     Yes         No       1           No   \n",
       "1    Male              0      No         No      34          Yes   \n",
       "2    Male              0      No         No       2          Yes   \n",
       "3    Male              0      No         No      45           No   \n",
       "4  Female              0      No         No       2          Yes   \n",
       "\n",
       "      MultipleLines InternetService OnlineSecurity OnlineBackup  \\\n",
       "0  No phone service             DSL             No          Yes   \n",
       "1                No             DSL            Yes           No   \n",
       "2                No             DSL            Yes          Yes   \n",
       "3  No phone service             DSL            Yes           No   \n",
       "4                No     Fiber optic             No           No   \n",
       "\n",
       "  DeviceProtection TechSupport StreamingTV StreamingMovies        Contract  \\\n",
       "0               No          No          No              No  Month-to-month   \n",
       "1              Yes          No          No              No        One year   \n",
       "2               No          No          No              No  Month-to-month   \n",
       "3              Yes         Yes          No              No        One year   \n",
       "4               No          No          No              No  Month-to-month   \n",
       "\n",
       "  PaperlessBilling              PaymentMethod  MonthlyCharges  TotalCharges  \\\n",
       "0              Yes           Electronic check           29.85         29.85   \n",
       "1               No               Mailed check           56.95       1889.50   \n",
       "2              Yes               Mailed check           53.85        108.15   \n",
       "3               No  Bank transfer (automatic)           42.30       1840.75   \n",
       "4              Yes           Electronic check           70.70        151.65   \n",
       "\n",
       "  Churn  \n",
       "0    No  \n",
       "1    No  \n",
       "2   Yes  \n",
       "3    No  \n",
       "4   Yes  "
      ]
     },
     "execution_count": 49,
     "metadata": {},
     "output_type": "execute_result"
    }
   ],
   "source": [
    "#drop column that are not usefull ie customerID \n",
    "dataset.drop(columns= ['customerID'], axis=1, inplace=True)\n",
    "dataset.head()"
   ]
  },
  {
   "cell_type": "code",
   "execution_count": 50,
   "metadata": {},
   "outputs": [
    {
     "name": "stdout",
     "output_type": "stream",
     "text": [
      " gender  -->  ['Female' 'Male'] \n",
      " SeniorCitizen  -->  [0 1] \n",
      " Partner  -->  ['Yes' 'No'] \n",
      " Dependents  -->  ['No' 'Yes'] \n",
      " tenure  -->  [ 1 34  2 45  8 22 10 28 62 13 16 58 49 25 69 52 71 21 12 30 47 72 17 27\n",
      "  5 46 11 70 63 43 15 60 18 66  9  3 31 50 64 56  7 42 35 48 29 65 38 68\n",
      " 32 55 37 36 41  6  4 33 67 23 57 61 14 20 53 40 59 24 44 19 54 51 26 39] \n",
      " PhoneService  -->  ['No' 'Yes'] \n",
      " MultipleLines  -->  ['No phone service' 'No' 'Yes'] \n",
      " InternetService  -->  ['DSL' 'Fiber optic' 'No'] \n",
      " OnlineSecurity  -->  ['No' 'Yes' 'No internet service'] \n",
      " OnlineBackup  -->  ['Yes' 'No' 'No internet service'] \n",
      " DeviceProtection  -->  ['No' 'Yes' 'No internet service'] \n",
      " TechSupport  -->  ['No' 'Yes' 'No internet service'] \n",
      " StreamingTV  -->  ['No' 'Yes' 'No internet service'] \n",
      " StreamingMovies  -->  ['No' 'Yes' 'No internet service'] \n",
      " Contract  -->  ['Month-to-month' 'One year' 'Two year'] \n",
      " PaperlessBilling  -->  ['Yes' 'No'] \n",
      " PaymentMethod  -->  ['Electronic check' 'Mailed check' 'Bank transfer (automatic)'\n",
      " 'Credit card (automatic)'] \n",
      " MonthlyCharges  -->  [29.85 56.95 53.85 ... 63.1  44.2  78.7 ] \n",
      " TotalCharges  -->  [  29.85 1889.5   108.15 ...  346.45  306.6  6844.5 ] \n",
      " Churn  -->  ['No' 'Yes'] \n"
     ]
    }
   ],
   "source": [
    "for col in dataset:\n",
    "    print( f\" {col}  -->  {dataset[col].unique()} \")"
   ]
  },
  {
   "cell_type": "code",
   "execution_count": 51,
   "metadata": {},
   "outputs": [],
   "source": [
    "dataset_dum = pd.get_dummies(dataset, drop_first=True)"
   ]
  },
  {
   "cell_type": "code",
   "execution_count": 52,
   "metadata": {},
   "outputs": [
    {
     "data": {
      "text/plain": [
       "<Axes: >"
      ]
     },
     "execution_count": 52,
     "metadata": {},
     "output_type": "execute_result"
    },
    {
     "data": {
      "image/png": "[encoded data removed]",
      "text/plain": [
       "<Figure size 640x480 with 2 Axes>"
      ]
     },
     "metadata": {},
     "output_type": "display_data"
    }
   ],
   "source": [
    "sns.heatmap(dataset_dum.corr(), cmap=\"Paired\")"
   ]
  },
  {
   "cell_type": "code",
   "execution_count": 53,
   "metadata": {},
   "outputs": [
    {
     "data": {
      "text/plain": [
       "Index(['SeniorCitizen', 'tenure', 'MonthlyCharges', 'TotalCharges',\n",
       "       'gender_Male', 'Partner_Yes', 'Dependents_Yes', 'PhoneService_Yes',\n",
       "       'MultipleLines_No phone service', 'MultipleLines_Yes',\n",
       "       'InternetService_Fiber optic', 'InternetService_No',\n",
       "       'OnlineSecurity_No internet service', 'OnlineSecurity_Yes',\n",
       "       'OnlineBackup_No internet service', 'OnlineBackup_Yes',\n",
       "       'DeviceProtection_No internet service', 'DeviceProtection_Yes',\n",
       "       'TechSupport_No internet service', 'TechSupport_Yes',\n",
       "       'StreamingTV_No internet service', 'StreamingTV_Yes',\n",
       "       'StreamingMovies_No internet service', 'StreamingMovies_Yes',\n",
       "       'Contract_One year', 'Contract_Two year', 'PaperlessBilling_Yes',\n",
       "       'PaymentMethod_Credit card (automatic)',\n",
       "       'PaymentMethod_Electronic check', 'PaymentMethod_Mailed check',\n",
       "       'Churn_Yes'],\n",
       "      dtype='object')"
      ]
     },
     "execution_count": 53,
     "metadata": {},
     "output_type": "execute_result"
    }
   ],
   "source": [
    "dataset_dum.columns"
   ]
  },
  {
   "attachments": {},
   "cell_type": "markdown",
   "metadata": {},
   "source": [
    "Removing highly co-related features"
   ]
  },
  {
   "cell_type": "code",
   "execution_count": 54,
   "metadata": {},
   "outputs": [],
   "source": [
    "dataset_dum.drop(['OnlineSecurity_No internet service','OnlineBackup_No internet service','DeviceProtection_No internet service', 'TechSupport_No internet service','StreamingTV_No internet service', 'StreamingMovies_No internet service'],axis=1,inplace=True\n",
    "                 )"
   ]
  },
  {
   "cell_type": "code",
   "execution_count": 55,
   "metadata": {},
   "outputs": [
    {
     "data": {
      "text/plain": [
       "Index(['SeniorCitizen', 'tenure', 'MonthlyCharges', 'TotalCharges',\n",
       "       'gender_Male', 'Partner_Yes', 'Dependents_Yes', 'PhoneService_Yes',\n",
       "       'MultipleLines_No phone service', 'MultipleLines_Yes',\n",
       "       'InternetService_Fiber optic', 'InternetService_No',\n",
       "       'OnlineSecurity_Yes', 'OnlineBackup_Yes', 'DeviceProtection_Yes',\n",
       "       'TechSupport_Yes', 'StreamingTV_Yes', 'StreamingMovies_Yes',\n",
       "       'Contract_One year', 'Contract_Two year', 'PaperlessBilling_Yes',\n",
       "       'PaymentMethod_Credit card (automatic)',\n",
       "       'PaymentMethod_Electronic check', 'PaymentMethod_Mailed check',\n",
       "       'Churn_Yes'],\n",
       "      dtype='object')"
      ]
     },
     "execution_count": 55,
     "metadata": {},
     "output_type": "execute_result"
    }
   ],
   "source": [
    "dataset_dum.columns"
   ]
  },
  {
   "attachments": {},
   "cell_type": "markdown",
   "metadata": {},
   "source": [
    "# Artificial Neural Network"
   ]
  },
  {
   "attachments": {},
   "cell_type": "markdown",
   "metadata": {},
   "source": [
    "### Importing the libraries"
   ]
  },
  {
   "cell_type": "code",
   "execution_count": 56,
   "metadata": {},
   "outputs": [],
   "source": [
    "import numpy as np\n",
    "import pandas as pd\n",
    "import tensorflow as tf"
   ]
  },
  {
   "attachments": {},
   "cell_type": "markdown",
   "metadata": {},
   "source": [
    "### Splitting the dataset into the Training set and Test set"
   ]
  },
  {
   "cell_type": "code",
   "execution_count": 57,
   "metadata": {},
   "outputs": [],
   "source": [
    "from sklearn.model_selection import train_test_split\n",
    "X = dataset_dum.drop('Churn_Yes', axis=1)\n",
    "y = dataset_dum['Churn_Yes']\n",
    "X_train, X_test, y_train, y_test = train_test_split(X, y, test_size = 0.2, random_state = 0)"
   ]
  },
  {
   "attachments": {},
   "cell_type": "markdown",
   "metadata": {},
   "source": [
    "### Feature Scaling"
   ]
  },
  {
   "cell_type": "code",
   "execution_count": 58,
   "metadata": {},
   "outputs": [],
   "source": [
    "from sklearn.preprocessing import StandardScaler\n",
    "sc = StandardScaler()\n",
    "X_train = sc.fit_transform(X_train)\n",
    "X_test = sc.transform(X_test)"
   ]
  },
  {
   "attachments": {},
   "cell_type": "markdown",
   "metadata": {},
   "source": [
    "##  Building the ANN"
   ]
  },
  {
   "attachments": {},
   "cell_type": "markdown",
   "metadata": {},
   "source": [
    "### Initializing the ANN"
   ]
  },
  {
   "cell_type": "code",
   "execution_count": 59,
   "metadata": {},
   "outputs": [],
   "source": [
    "ann = tf.keras.models.Sequential()"
   ]
  },
  {
   "attachments": {},
   "cell_type": "markdown",
   "metadata": {},
   "source": [
    "### Adding the input layer and the first hidden layer"
   ]
  },
  {
   "cell_type": "code",
   "execution_count": 60,
   "metadata": {},
   "outputs": [],
   "source": [
    "ann.add(tf.keras.layers.Dense(units=6, activation='relu'))"
   ]
  },
  {
   "attachments": {},
   "cell_type": "markdown",
   "metadata": {},
   "source": [
    "### Adding the second hidden layer"
   ]
  },
  {
   "cell_type": "code",
   "execution_count": 61,
   "metadata": {},
   "outputs": [],
   "source": [
    "ann.add(tf.keras.layers.Dense(units=6, activation='relu'))"
   ]
  },
  {
   "attachments": {},
   "cell_type": "markdown",
   "metadata": {},
   "source": [
    "### Adding the output layer"
   ]
  },
  {
   "cell_type": "code",
   "execution_count": 62,
   "metadata": {},
   "outputs": [],
   "source": [
    "ann.add(tf.keras.layers.Dense(units=1, activation='sigmoid'))"
   ]
  },
  {
   "attachments": {},
   "cell_type": "markdown",
   "metadata": {},
   "source": [
    "##  Training the ANN"
   ]
  },
  {
   "attachments": {},
   "cell_type": "markdown",
   "metadata": {},
   "source": [
    "### Compiling the ANN"
   ]
  },
  {
   "cell_type": "code",
   "execution_count": 63,
   "metadata": {},
   "outputs": [],
   "source": [
    "ann.compile(optimizer = 'adam', loss = 'binary_crossentropy', metrics = ['accuracy'])"
   ]
  },
  {
   "attachments": {},
   "cell_type": "markdown",
   "metadata": {},
   "source": [
    "### Training the ANN on the Training set"
   ]
  },
  {
   "cell_type": "code",
   "execution_count": 64,
   "metadata": {},
   "outputs": [
    {
     "name": "stdout",
     "output_type": "stream",
     "text": [
      "Epoch 1/100\n",
      "176/176 [==============================] - 0s 409us/step - loss: 0.5777 - accuracy: 0.7095\n",
      "Epoch 2/100\n",
      "176/176 [==============================] - 0s 377us/step - loss: 0.4898 - accuracy: 0.7333\n",
      "Epoch 3/100\n",
      "176/176 [==============================] - 0s 368us/step - loss: 0.4631 - accuracy: 0.7333\n",
      "Epoch 4/100\n",
      "176/176 [==============================] - 0s 370us/step - loss: 0.4504 - accuracy: 0.7335\n",
      "Epoch 5/100\n",
      "176/176 [==============================] - 0s 366us/step - loss: 0.4430 - accuracy: 0.7801\n",
      "Epoch 6/100\n",
      "176/176 [==============================] - 0s 383us/step - loss: 0.4385 - accuracy: 0.7865\n",
      "Epoch 7/100\n",
      "176/176 [==============================] - 0s 376us/step - loss: 0.4352 - accuracy: 0.7918\n",
      "Epoch 8/100\n",
      "176/176 [==============================] - 0s 380us/step - loss: 0.4323 - accuracy: 0.7957\n",
      "Epoch 9/100\n",
      "176/176 [==============================] - 0s 376us/step - loss: 0.4299 - accuracy: 0.7972\n",
      "Epoch 10/100\n",
      "176/176 [==============================] - 0s 377us/step - loss: 0.4276 - accuracy: 0.7996\n",
      "Epoch 11/100\n",
      "176/176 [==============================] - 0s 384us/step - loss: 0.4258 - accuracy: 0.7993\n",
      "Epoch 12/100\n",
      "176/176 [==============================] - 0s 373us/step - loss: 0.4237 - accuracy: 0.8005\n",
      "Epoch 13/100\n",
      "176/176 [==============================] - 0s 377us/step - loss: 0.4224 - accuracy: 0.8007\n",
      "Epoch 14/100\n",
      "176/176 [==============================] - 0s 371us/step - loss: 0.4212 - accuracy: 0.8014\n",
      "Epoch 15/100\n",
      "176/176 [==============================] - 0s 370us/step - loss: 0.4200 - accuracy: 0.8007\n",
      "Epoch 16/100\n",
      "176/176 [==============================] - 0s 369us/step - loss: 0.4190 - accuracy: 0.8018\n",
      "Epoch 17/100\n",
      "176/176 [==============================] - 0s 371us/step - loss: 0.4178 - accuracy: 0.8009\n",
      "Epoch 18/100\n",
      "176/176 [==============================] - 0s 373us/step - loss: 0.4172 - accuracy: 0.8037\n",
      "Epoch 19/100\n",
      "176/176 [==============================] - 0s 376us/step - loss: 0.4157 - accuracy: 0.8021\n",
      "Epoch 20/100\n",
      "176/176 [==============================] - 0s 378us/step - loss: 0.4153 - accuracy: 0.8053\n",
      "Epoch 21/100\n",
      "176/176 [==============================] - 0s 377us/step - loss: 0.4143 - accuracy: 0.8041\n",
      "Epoch 22/100\n",
      "176/176 [==============================] - 0s 380us/step - loss: 0.4136 - accuracy: 0.8064\n",
      "Epoch 23/100\n",
      "176/176 [==============================] - 0s 380us/step - loss: 0.4130 - accuracy: 0.8052\n",
      "Epoch 24/100\n",
      "176/176 [==============================] - 0s 808us/step - loss: 0.4123 - accuracy: 0.8068\n",
      "Epoch 25/100\n",
      "176/176 [==============================] - 0s 715us/step - loss: 0.4114 - accuracy: 0.8060\n",
      "Epoch 26/100\n",
      "176/176 [==============================] - 0s 374us/step - loss: 0.4108 - accuracy: 0.8069\n",
      "Epoch 27/100\n",
      "176/176 [==============================] - 0s 382us/step - loss: 0.4108 - accuracy: 0.8059\n",
      "Epoch 28/100\n",
      "176/176 [==============================] - 0s 377us/step - loss: 0.4100 - accuracy: 0.8082\n",
      "Epoch 29/100\n",
      "176/176 [==============================] - 0s 376us/step - loss: 0.4095 - accuracy: 0.8082\n",
      "Epoch 30/100\n",
      "176/176 [==============================] - 0s 376us/step - loss: 0.4089 - accuracy: 0.8068\n",
      "Epoch 31/100\n",
      "176/176 [==============================] - 0s 376us/step - loss: 0.4085 - accuracy: 0.8084\n",
      "Epoch 32/100\n",
      "176/176 [==============================] - 0s 369us/step - loss: 0.4080 - accuracy: 0.8076\n",
      "Epoch 33/100\n",
      "176/176 [==============================] - 0s 374us/step - loss: 0.4078 - accuracy: 0.8098\n",
      "Epoch 34/100\n",
      "176/176 [==============================] - 0s 380us/step - loss: 0.4074 - accuracy: 0.8092\n",
      "Epoch 35/100\n",
      "176/176 [==============================] - 0s 374us/step - loss: 0.4068 - accuracy: 0.8085\n",
      "Epoch 36/100\n",
      "176/176 [==============================] - 0s 375us/step - loss: 0.4066 - accuracy: 0.8092\n",
      "Epoch 37/100\n",
      "176/176 [==============================] - 0s 378us/step - loss: 0.4062 - accuracy: 0.8068\n",
      "Epoch 38/100\n",
      "176/176 [==============================] - 0s 599us/step - loss: 0.4057 - accuracy: 0.8082\n",
      "Epoch 39/100\n",
      "176/176 [==============================] - 0s 376us/step - loss: 0.4060 - accuracy: 0.8082\n",
      "Epoch 40/100\n",
      "176/176 [==============================] - 0s 383us/step - loss: 0.4055 - accuracy: 0.8080\n",
      "Epoch 41/100\n",
      "176/176 [==============================] - 0s 375us/step - loss: 0.4058 - accuracy: 0.8064\n",
      "Epoch 42/100\n",
      "176/176 [==============================] - 0s 382us/step - loss: 0.4053 - accuracy: 0.8078\n",
      "Epoch 43/100\n",
      "176/176 [==============================] - 0s 380us/step - loss: 0.4049 - accuracy: 0.8103\n",
      "Epoch 44/100\n",
      "176/176 [==============================] - 0s 366us/step - loss: 0.4044 - accuracy: 0.8091\n",
      "Epoch 45/100\n",
      "176/176 [==============================] - 0s 376us/step - loss: 0.4045 - accuracy: 0.8084\n",
      "Epoch 46/100\n",
      "176/176 [==============================] - 0s 375us/step - loss: 0.4041 - accuracy: 0.8084\n",
      "Epoch 47/100\n",
      "176/176 [==============================] - 0s 373us/step - loss: 0.4040 - accuracy: 0.8107\n",
      "Epoch 48/100\n",
      "176/176 [==============================] - 0s 375us/step - loss: 0.4040 - accuracy: 0.8096\n",
      "Epoch 49/100\n",
      "176/176 [==============================] - 0s 367us/step - loss: 0.4034 - accuracy: 0.8089\n",
      "Epoch 50/100\n",
      "176/176 [==============================] - 0s 382us/step - loss: 0.4035 - accuracy: 0.8085\n",
      "Epoch 51/100\n",
      "176/176 [==============================] - 0s 377us/step - loss: 0.4031 - accuracy: 0.8092\n",
      "Epoch 52/100\n",
      "176/176 [==============================] - 0s 371us/step - loss: 0.4029 - accuracy: 0.8094\n",
      "Epoch 53/100\n",
      "176/176 [==============================] - 0s 371us/step - loss: 0.4028 - accuracy: 0.8100\n",
      "Epoch 54/100\n",
      "176/176 [==============================] - 0s 367us/step - loss: 0.4029 - accuracy: 0.8085\n",
      "Epoch 55/100\n",
      "176/176 [==============================] - 0s 373us/step - loss: 0.4024 - accuracy: 0.8087\n",
      "Epoch 56/100\n",
      "176/176 [==============================] - 0s 368us/step - loss: 0.4019 - accuracy: 0.8085\n",
      "Epoch 57/100\n",
      "176/176 [==============================] - 0s 366us/step - loss: 0.4020 - accuracy: 0.8096\n",
      "Epoch 58/100\n",
      "176/176 [==============================] - 0s 369us/step - loss: 0.4018 - accuracy: 0.8085\n",
      "Epoch 59/100\n",
      "176/176 [==============================] - 0s 371us/step - loss: 0.4018 - accuracy: 0.8103\n",
      "Epoch 60/100\n",
      "176/176 [==============================] - 0s 369us/step - loss: 0.4014 - accuracy: 0.8094\n",
      "Epoch 61/100\n",
      "176/176 [==============================] - 0s 374us/step - loss: 0.4014 - accuracy: 0.8073\n",
      "Epoch 62/100\n",
      "176/176 [==============================] - 0s 383us/step - loss: 0.4015 - accuracy: 0.8101\n",
      "Epoch 63/100\n",
      "176/176 [==============================] - 0s 363us/step - loss: 0.4012 - accuracy: 0.8091\n",
      "Epoch 64/100\n",
      "176/176 [==============================] - 0s 603us/step - loss: 0.4009 - accuracy: 0.8105\n",
      "Epoch 65/100\n",
      "176/176 [==============================] - 0s 363us/step - loss: 0.4007 - accuracy: 0.8107\n",
      "Epoch 66/100\n",
      "176/176 [==============================] - 0s 379us/step - loss: 0.4007 - accuracy: 0.8105\n",
      "Epoch 67/100\n",
      "176/176 [==============================] - 0s 365us/step - loss: 0.4004 - accuracy: 0.8100\n",
      "Epoch 68/100\n",
      "176/176 [==============================] - 0s 369us/step - loss: 0.4003 - accuracy: 0.8107\n",
      "Epoch 69/100\n",
      "176/176 [==============================] - 0s 369us/step - loss: 0.4003 - accuracy: 0.8108\n",
      "Epoch 70/100\n",
      "176/176 [==============================] - 0s 366us/step - loss: 0.4002 - accuracy: 0.8103\n",
      "Epoch 71/100\n",
      "176/176 [==============================] - 0s 375us/step - loss: 0.4001 - accuracy: 0.8112\n",
      "Epoch 72/100\n",
      "176/176 [==============================] - 0s 368us/step - loss: 0.4002 - accuracy: 0.8114\n",
      "Epoch 73/100\n",
      "176/176 [==============================] - 0s 366us/step - loss: 0.3999 - accuracy: 0.8107\n",
      "Epoch 74/100\n",
      "176/176 [==============================] - 0s 369us/step - loss: 0.3996 - accuracy: 0.8117\n",
      "Epoch 75/100\n",
      "176/176 [==============================] - 0s 372us/step - loss: 0.4002 - accuracy: 0.8105\n",
      "Epoch 76/100\n",
      "176/176 [==============================] - 0s 378us/step - loss: 0.3995 - accuracy: 0.8116\n",
      "Epoch 77/100\n",
      "176/176 [==============================] - 0s 372us/step - loss: 0.3997 - accuracy: 0.8105\n",
      "Epoch 78/100\n",
      "176/176 [==============================] - 0s 369us/step - loss: 0.3993 - accuracy: 0.8108\n",
      "Epoch 79/100\n",
      "176/176 [==============================] - 0s 366us/step - loss: 0.3994 - accuracy: 0.8107\n",
      "Epoch 80/100\n",
      "176/176 [==============================] - 0s 373us/step - loss: 0.3992 - accuracy: 0.8112\n",
      "Epoch 81/100\n",
      "176/176 [==============================] - 0s 374us/step - loss: 0.3996 - accuracy: 0.8098\n",
      "Epoch 82/100\n",
      "176/176 [==============================] - 0s 373us/step - loss: 0.3994 - accuracy: 0.8108\n",
      "Epoch 83/100\n",
      "176/176 [==============================] - 0s 367us/step - loss: 0.3996 - accuracy: 0.8092\n",
      "Epoch 84/100\n",
      "176/176 [==============================] - 0s 367us/step - loss: 0.3994 - accuracy: 0.8108\n",
      "Epoch 85/100\n",
      "176/176 [==============================] - 0s 367us/step - loss: 0.3990 - accuracy: 0.8112\n",
      "Epoch 86/100\n",
      "176/176 [==============================] - 0s 376us/step - loss: 0.3990 - accuracy: 0.8098\n",
      "Epoch 87/100\n",
      "176/176 [==============================] - 0s 372us/step - loss: 0.3988 - accuracy: 0.8114\n",
      "Epoch 88/100\n",
      "176/176 [==============================] - 0s 372us/step - loss: 0.3992 - accuracy: 0.8087\n",
      "Epoch 89/100\n",
      "176/176 [==============================] - 0s 599us/step - loss: 0.3987 - accuracy: 0.8108\n",
      "Epoch 90/100\n",
      "176/176 [==============================] - 0s 365us/step - loss: 0.3987 - accuracy: 0.8101\n",
      "Epoch 91/100\n",
      "176/176 [==============================] - 0s 371us/step - loss: 0.3989 - accuracy: 0.8101\n",
      "Epoch 92/100\n",
      "176/176 [==============================] - 0s 366us/step - loss: 0.3990 - accuracy: 0.8098\n",
      "Epoch 93/100\n",
      "176/176 [==============================] - 0s 507us/step - loss: 0.3986 - accuracy: 0.8080\n",
      "Epoch 94/100\n",
      "176/176 [==============================] - 0s 370us/step - loss: 0.3987 - accuracy: 0.8076\n",
      "Epoch 95/100\n",
      "176/176 [==============================] - 0s 366us/step - loss: 0.3983 - accuracy: 0.8085\n",
      "Epoch 96/100\n",
      "176/176 [==============================] - 0s 374us/step - loss: 0.3984 - accuracy: 0.8082\n",
      "Epoch 97/100\n",
      "176/176 [==============================] - 0s 380us/step - loss: 0.3981 - accuracy: 0.8098\n",
      "Epoch 98/100\n",
      "176/176 [==============================] - 0s 369us/step - loss: 0.3985 - accuracy: 0.8092\n",
      "Epoch 99/100\n",
      "176/176 [==============================] - 0s 371us/step - loss: 0.3982 - accuracy: 0.8092\n",
      "Epoch 100/100\n",
      "176/176 [==============================] - 0s 371us/step - loss: 0.3986 - accuracy: 0.8108\n"
     ]
    },
    {
     "data": {
      "text/plain": [
       "<keras.callbacks.History at 0x280a36b60>"
      ]
     },
     "execution_count": 64,
     "metadata": {},
     "output_type": "execute_result"
    }
   ],
   "source": [
    "ann.fit(X_train, y_train, batch_size = 32, epochs = 100)"
   ]
  },
  {
   "attachments": {},
   "cell_type": "markdown",
   "metadata": {},
   "source": [
    "### Evaluating the model"
   ]
  },
  {
   "cell_type": "code",
   "execution_count": 65,
   "metadata": {},
   "outputs": [
    {
     "name": "stdout",
     "output_type": "stream",
     "text": [
      "44/44 [==============================] - 0s 302us/step\n"
     ]
    }
   ],
   "source": [
    "from sklearn.metrics import confusion_matrix, accuracy_score, classification_report\n",
    "y_pred = ann.predict(X_test)\n",
    "y_pred = (y_pred > 0.5)\n"
   ]
  },
  {
   "cell_type": "code",
   "execution_count": 66,
   "metadata": {},
   "outputs": [
    {
     "name": "stdout",
     "output_type": "stream",
     "text": [
      "[[936 102]\n",
      " [184 185]]\n",
      "              precision    recall  f1-score   support\n",
      "\n",
      "           0       0.84      0.90      0.87      1038\n",
      "           1       0.64      0.50      0.56       369\n",
      "\n",
      "    accuracy                           0.80      1407\n",
      "   macro avg       0.74      0.70      0.72      1407\n",
      "weighted avg       0.79      0.80      0.79      1407\n",
      "\n"
     ]
    },
    {
     "data": {
      "text/plain": [
       "0.7967306325515281"
      ]
     },
     "execution_count": 66,
     "metadata": {},
     "output_type": "execute_result"
    }
   ],
   "source": [
    "print(confusion_matrix(y_test, y_pred))\n",
    "\n",
    "print(classification_report(y_test, y_pred))\n",
    "\n",
    "accuracy_score(y_test, y_pred)"
   ]
  },
  {
   "cell_type": "code",
   "execution_count": null,
   "metadata": {},
   "outputs": [],
   "source": []
  }
 ],
 "metadata": {
  "kernelspec": {
   "display_name": "base",
   "language": "python",
   "name": "python3"
  },
  "language_info": {
   "codemirror_mode": {
    "name": "ipython",
    "version": 3
   },
   "file_extension": ".py",
   "mimetype": "text/x-python",
   "name": "python",
   "nbconvert_exporter": "python",
   "pygments_lexer": "ipython3",
   "version": "3.10.9"
  },
  "orig_nbformat": 4
 },
 "nbformat": 4,
 "nbformat_minor": 2
}
